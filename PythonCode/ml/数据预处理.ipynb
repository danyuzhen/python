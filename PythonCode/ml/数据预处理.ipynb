{
 "cells": [
  {
   "cell_type": "code",
   "execution_count": 1,
   "metadata": {},
   "outputs": [],
   "source": [
    "import numpy as np\n",
    "import matplotlib.pyplot as plt\n",
    "import pandas as pd\n",
    "from sklearn.preprocessing import Imputer\n",
    "from sklearn.preprocessing import LabelEncoder,OneHotEncoder\n",
    "from sklearn.model_selection import train_test_split\n",
    "from sklearn.preprocessing import StandardScaler\n"
   ]
  },
  {
   "cell_type": "code",
   "execution_count": 8,
   "metadata": {},
   "outputs": [
    {
     "name": "stdout",
     "output_type": "stream",
     "text": [
      "[[44.0 72000.0]\n",
      " [27.0 48000.0]\n",
      " [30.0 54000.0]\n",
      " [38.0 61000.0]\n",
      " [40.0 nan]\n",
      " [35.0 58000.0]\n",
      " [nan 52000.0]\n",
      " [48.0 79000.0]\n",
      " [50.0 83000.0]\n",
      " [37.0 67000.0]]\n",
      "[['France' 44.0 72000.0]\n",
      " ['Spain' 27.0 48000.0]\n",
      " ['Germany' 30.0 54000.0]\n",
      " ['Spain' 38.0 61000.0]\n",
      " ['Germany' 40.0 63777.77777777778]\n",
      " ['France' 35.0 58000.0]\n",
      " ['Spain' 38.77777777777778 52000.0]\n",
      " ['France' 48.0 79000.0]\n",
      " ['Germany' 50.0 83000.0]\n",
      " ['France' 37.0 67000.0]]\n"
     ]
    }
   ],
   "source": [
    "#--------------------导入数据---------------------\n",
    "data=pd.read_csv(\"MachineLearning\\Part 1 - Data Preprocessing\\Data.csv\")\n",
    "#除去最后一列的值\n",
    "x=data.iloc[:,:-1].values\n",
    "#最后一列标签\n",
    "y=data.iloc[:,3].values\n",
    "print(x[:,1:3])\n",
    "# print(y)\n",
    "#--------------------缺失数据（可选）---------------------\n",
    "imputer=Imputer(missing_values=\"NaN\",strategy=\"mean\",axis=0)\n",
    "imputer=imputer.fit(x[:,1:3])\n",
    "x[:,1:3]=imputer.transform(x[:,1:3])\n",
    "print(x)\n",
    "# #--------------------分类数据（可选）---------------------\n",
    "# labelcode_x=LabelEncoder()\n",
    "# labelcode_y=LabelEncoder()\n",
    "# x[:,0]=labelcode_x.fit_transform(x[:,0])\n",
    "# oneoht=OneHotEncoder(categorical_features=[0])\n",
    "# x=oneoht.fit_transform(x).toarray()\n",
    "# y=labelcode_y.fit_transform(y)\n",
    "# #--------------------拆分训练集数据集---------------------\n",
    "# xtrain,xtest,ytrain,ytest=train_test_split(x,y,test_size=0.2,random_state=0)\n",
    "# #--------------------特征缩放---------------------\n",
    "# ss=StandardScaler()\n",
    "# xtrain=ss.fit_transform(xtrain)\n",
    "# xtest=ss.transform(xtest)"
   ]
  },
  {
   "cell_type": "code",
   "execution_count": null,
   "metadata": {},
   "outputs": [],
   "source": []
  }
 ],
 "metadata": {
  "kernelspec": {
   "display_name": "Python 3",
   "language": "python",
   "name": "python3"
  },
  "language_info": {
   "codemirror_mode": {
    "name": "ipython",
    "version": 3
   },
   "file_extension": ".py",
   "mimetype": "text/x-python",
   "name": "python",
   "nbconvert_exporter": "python",
   "pygments_lexer": "ipython3",
   "version": "3.5.6"
  }
 },
 "nbformat": 4,
 "nbformat_minor": 2
}
