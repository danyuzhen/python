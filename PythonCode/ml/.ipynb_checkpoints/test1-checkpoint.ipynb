{
 "cells": [
  {
   "cell_type": "code",
   "execution_count": 56,
   "metadata": {},
   "outputs": [],
   "source": [
    "import numpy as np\n",
    "import matplotlib.pyplot as plt\n",
    "import pandas as pd\n",
    "import math"
   ]
  },
  {
   "cell_type": "code",
   "execution_count": 124,
   "metadata": {},
   "outputs": [
    {
     "name": "stdout",
     "output_type": "stream",
     "text": [
      "[[72000.]\n",
      " [48000.]\n",
      " [54000.]\n",
      " [61000.]\n",
      " [61000.]\n",
      " [58000.]\n",
      " [52000.]\n",
      " [79000.]\n",
      " [83000.]\n",
      " [67000.]]\n"
     ]
    }
   ],
   "source": [
    "data=pd.read_csv(\"MachineLearning\\Part 1 - Data Preprocessing\\Data.csv\")\n",
    "# for i in range(1,data.shape[1]):\n",
    "#     value=data.iloc[:,i].values\n",
    "#     for i in value:\n",
    "#         if \n",
    "value=data.iloc[:,2:3].values\n",
    "npvalue=np.array(value)\n",
    "vlist=[]\n",
    "nanindex=[]\n",
    "for i in npvalue:\n",
    "    vlist.append(i[0])\n",
    "for i in range(len(vlist)):\n",
    "    if math.isnan(vlist[i])==True:\n",
    "        nanindex.append(i)\n",
    "for i in nanindex:\n",
    "    del vlist[i]\n",
    "    npvalue1=np.array(vlist)\n",
    "    npvalue1_med=np.median(npvalue1)\n",
    "    npvalue[i]=npvalue1_med\n",
    "\n",
    "\n",
    "    \n",
    "print(npvalue)\n"
   ]
  },
  {
   "cell_type": "code",
   "execution_count": 120,
   "metadata": {},
   "outputs": [
    {
     "data": {
      "text/plain": [
       "True"
      ]
     },
     "execution_count": 120,
     "metadata": {},
     "output_type": "execute_result"
    }
   ],
   "source": [
    "a=['nan']\n",
    "a[0].isalpha()"
   ]
  }
 ],
 "metadata": {
  "kernelspec": {
   "display_name": "Python 3",
   "language": "python",
   "name": "python3"
  },
  "language_info": {
   "codemirror_mode": {
    "name": "ipython",
    "version": 3
   },
   "file_extension": ".py",
   "mimetype": "text/x-python",
   "name": "python",
   "nbconvert_exporter": "python",
   "pygments_lexer": "ipython3",
   "version": "3.5.6"
  }
 },
 "nbformat": 4,
 "nbformat_minor": 2
}
