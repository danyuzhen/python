{
 "cells": [
  {
   "cell_type": "code",
   "execution_count": 1,
   "metadata": {},
   "outputs": [],
   "source": [
    "import numpy as np\n",
    "import matplotlib.pyplot as plt\n",
    "import pandas as pd\n",
    "from sklearn.preprocessing import Imputer\n",
    "from sklearn.preprocessing import LabelEncoder,OneHotEncoder,PolynomialFeatures\n",
    "from sklearn.model_selection import train_test_split\n",
    "from sklearn.preprocessing import StandardScaler\n",
    "from sklearn.linear_model import LinearRegression\n",
    "import statsmodels.formula.api as sm"
   ]
  },
  {
   "cell_type": "code",
   "execution_count": 7,
   "metadata": {},
   "outputs": [
    {
     "data": {
      "text/plain": [
       "[<matplotlib.lines.Line2D at 0x2b26d539c50>]"
      ]
     },
     "execution_count": 7,
     "metadata": {},
     "output_type": "execute_result"
    },
    {
     "data": {
      "image/png": "[encoded data removed]",
      "text/plain": [
       "<Figure size 432x288 with 1 Axes>"
      ]
     },
     "metadata": {},
     "output_type": "display_data"
    }
   ],
   "source": [
    "#--------------------导入数据---------------------\n",
    "data=pd.read_csv(\"MachineLearning\\\\Part 2 - Regression\\\\Section 6 - Polynomial Regression\\\\Position_Salaries.csv\")\n",
    "#-------------------\n",
    "#除去最后一列的值\n",
    "x=data.iloc[:,1:2].values\n",
    "#最后一列标签\n",
    "y=data.iloc[:,-1].values\n",
    "# print(x)\n",
    "# print(y)\n",
    "#-------------简单线性回归--------------------\n",
    "linREG=LinearRegression()\n",
    "linREG.fit(x,y)\n",
    "#-------------回归--------------------\n",
    "###########自变量不同次数的矩阵##########\n",
    "polyREG=PolynomialFeatures(degree=10)\n",
    "xpoly=polyREG.fit_transform(x)\n",
    "# print(polyREG)\n",
    "# print(xpoly)\n",
    "##########线性回归###################\n",
    "linREG2=LinearRegression()\n",
    "linREG2.fit(xpoly,y)\n",
    "#---------------------画图----------------------\n",
    "plt.scatter(x,y,color=\"red\")\n",
    "plt.plot(x,linREG2.predict(xpoly))"
   ]
  },
  {
   "cell_type": "code",
   "execution_count": 42,
   "metadata": {},
   "outputs": [
    {
     "name": "stdout",
     "output_type": "stream",
     "text": [
      "3960730\n"
     ]
    }
   ],
   "source": [
    "#--------------------导入数据---------------------\n",
    "data=pd.read_csv(\"diamonds.csv\")\n",
    "#-------------------\n",
    "#\n",
    "x=data.iloc[:,1:7].values\n",
    "x1=data.iloc[:,8:11].values\n",
    "x=np.c_[x,x1]\n",
    "#\n",
    "y=data.iloc[:,-4].values\n",
    "# print(x)\n",
    "# print(y)\n",
    "#--------------------分类数据（可选）---------------------\n",
    "labelcode_x=LabelEncoder()\n",
    "labelcode_y=LabelEncoder()\n",
    "x[:,1]=labelcode_x.fit_transform(x[:,1])\n",
    "x[:,2]=labelcode_x.fit_transform(x[:,2])\n",
    "x[:,3]=labelcode_x.fit_transform(x[:,3])\n",
    "oneoht=OneHotEncoder(categorical_features=[1])\n",
    "oneoht=OneHotEncoder(categorical_features=[2])\n",
    "oneoht=OneHotEncoder(categorical_features=[3])\n",
    "x=oneoht.fit_transform(x).toarray()\n",
    "# print(x[:,-5:16])\n",
    "#--------------------拆分训练集数据集---------------------\n",
    "xtrain,xtest,ytrain,ytest=train_test_split(x,y,test_size=0.2,random_state=0)\n",
    "# #-------------多项线性回归--------------------\n",
    "polyREG=PolynomialFeatures(degree=3)\n",
    "xpoly=polyREG.fit_transform(xtrain)\n",
    "##########创建多项式回归###################\n",
    "linREG2=LinearRegression()\n",
    "linREG2.fit(xpoly,ytrain)\n",
    "# #---------------------画图----------------------\n",
    "res=linREG2.predict(polyREG.fit_transform(xtest))-ytest\n",
    "# print(ytest)\n",
    "# print(linREG2.predict(polyREG.fit_transform(xtest)))\n",
    "# print(linREG2.predict(polyREG.fit_transform(xtest))-ytest)\n",
    "total=0\n",
    "for i in res:\n",
    "    total=total+abs(int(i))\n",
    "print(total)"
   ]
  },
  {
   "cell_type": "code",
   "execution_count": null,
   "metadata": {},
   "outputs": [],
   "source": []
  }
 ],
 "metadata": {
  "kernelspec": {
   "display_name": "Python 3",
   "language": "python",
   "name": "python3"
  },
  "language_info": {
   "codemirror_mode": {
    "name": "ipython",
    "version": 3
   },
   "file_extension": ".py",
   "mimetype": "text/x-python",
   "name": "python",
   "nbconvert_exporter": "python",
   "pygments_lexer": "ipython3",
   "version": "3.5.6"
  }
 },
 "nbformat": 4,
 "nbformat_minor": 2
}
