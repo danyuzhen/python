{
 "cells": [
  {
   "cell_type": "code",
   "execution_count": 5,
   "metadata": {},
   "outputs": [],
   "source": [
    "import numpy as np\n",
    "import matplotlib.pyplot as plt\n",
    "import pandas as pd\n",
    "from sklearn.preprocessing import Imputer\n",
    "from sklearn.preprocessing import LabelEncoder,OneHotEncoder\n",
    "from sklearn.model_selection import train_test_split\n",
    "from sklearn.preprocessing import StandardScaler\n",
    "from sklearn.linear_model import LinearRegression"
   ]
  },
  {
   "cell_type": "code",
   "execution_count": 6,
   "metadata": {},
   "outputs": [
    {
     "name": "stdout",
     "output_type": "stream",
     "text": [
      "[[ 1.1]\n",
      " [ 1.3]\n",
      " [ 1.5]\n",
      " [ 2. ]\n",
      " [ 2.2]\n",
      " [ 2.9]\n",
      " [ 3. ]\n",
      " [ 3.2]\n",
      " [ 3.2]\n",
      " [ 3.7]\n",
      " [ 3.9]\n",
      " [ 4. ]\n",
      " [ 4. ]\n",
      " [ 4.1]\n",
      " [ 4.5]\n",
      " [ 4.9]\n",
      " [ 5.1]\n",
      " [ 5.3]\n",
      " [ 5.9]\n",
      " [ 6. ]\n",
      " [ 6.8]\n",
      " [ 7.1]\n",
      " [ 7.9]\n",
      " [ 8.2]\n",
      " [ 8.7]\n",
      " [ 9. ]\n",
      " [ 9.5]\n",
      " [ 9.6]\n",
      " [10.3]\n",
      " [10.5]]\n",
      "[ 39343.  46205.  37731.  43525.  39891.  56642.  60150.  54445.  64445.\n",
      "  57189.  63218.  55794.  56957.  57081.  61111.  67938.  66029.  83088.\n",
      "  81363.  93940.  91738.  98273. 101302. 113812. 109431. 105582. 116969.\n",
      " 112635. 122391. 121872.]\n"
     ]
    }
   ],
   "source": [
    "#--------------------导入数据---------------------\n",
    "data=pd.read_csv(\"MachineLearning\\\\Part 2 - Regression\\\\Section 4 - Simple Linear Regression\\\\Salary_Data.csv\")\n",
    "#-------------------\n",
    "#除去最后一列的值\n",
    "x=data.iloc[:,:1].values\n",
    "#最后一列标签\n",
    "y=data.iloc[:,-1].values\n",
    "print(x)\n",
    "print(y)\n",
    "# #--------------------缺失数据（可选）---------------------\n",
    "# imputer=Imputer(missing_values=\"NaN\",strategy=\"mean\",axis=0)\n",
    "# imputer=imputer.fit(x[:,1:3])\n",
    "# x[:,1:3]=imputer.transform(x[:,1:3])\n",
    "# #--------------------分类数据（可选）---------------------\n",
    "# labelcode_x=LabelEncoder()\n",
    "# labelcode_y=LabelEncoder()\n",
    "# x[:,0]=labelcode_x.fit_transform(x[:,0])\n",
    "# oneoht=OneHotEncoder(categorical_features=[0])\n",
    "# x=oneoht.fit_transform(x).toarray()\n",
    "# y=labelcode_y.fit_transform(y)\n",
    "#--------------------拆分训练集数据集---------------------\n",
    "xtrain,xtest,ytrain,ytest=train_test_split(x,y,test_size=0.2,random_state=0)\n",
    "#--------------------特征缩放---------------------\n",
    "# ss=StandardScaler()\n",
    "# xtrain=ss.fit_transform(xtrain)\n",
    "# xtest=ss.transform(xtest)\n",
    "#---------------------简单线性回归--------------\n",
    "# regressor=LinearRegression()\n",
    "# regressor.fit(xtrain,ytrain)\n",
    "# ypred=regressor.predict(xtest)\n",
    "# #---------------------画图----------------------\n",
    "# plt.scatter(xtest,ytest,color=\"red\")\n",
    "# plt.plot(xtrain,regressor.predict(xtrain))"
   ]
  },
  {
   "cell_type": "code",
   "execution_count": null,
   "metadata": {},
   "outputs": [],
   "source": []
  }
 ],
 "metadata": {
  "kernelspec": {
   "display_name": "Python 3",
   "language": "python",
   "name": "python3"
  },
  "language_info": {
   "codemirror_mode": {
    "name": "ipython",
    "version": 3
   },
   "file_extension": ".py",
   "mimetype": "text/x-python",
   "name": "python",
   "nbconvert_exporter": "python",
   "pygments_lexer": "ipython3",
   "version": "3.5.6"
  }
 },
 "nbformat": 4,
 "nbformat_minor": 2
}
